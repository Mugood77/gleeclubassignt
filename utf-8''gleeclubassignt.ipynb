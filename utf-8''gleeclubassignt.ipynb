{
  "cells": [
    {
      "metadata": {
        "trusted": true
      },
      "cell_type": "code",
      "source": "import pandas as pd\nLocation = \"GleeClubData2.xlsx\"\ndf = pd.read_excel(Location)\ndf.head()",
      "execution_count": 1,
      "outputs": [
        {
          "output_type": "execute_result",
          "execution_count": 1,
          "data": {
            "text/html": "<div>\n<style>\n    .dataframe thead tr:only-child th {\n        text-align: right;\n    }\n\n    .dataframe thead th {\n        text-align: left;\n    }\n\n    .dataframe tbody tr th {\n        vertical-align: top;\n    }\n</style>\n<table border=\"1\" class=\"dataframe\">\n  <thead>\n    <tr style=\"text-align: right;\">\n      <th></th>\n      <th>teamsize</th>\n      <th>teamMFR</th>\n      <th>enrollment</th>\n      <th>schoolMFR</th>\n      <th>districtpopn</th>\n      <th>practices</th>\n      <th>competitions</th>\n      <th>score</th>\n    </tr>\n  </thead>\n  <tbody>\n    <tr>\n      <th>0</th>\n      <td>9</td>\n      <td>1.1</td>\n      <td>469</td>\n      <td>0.5</td>\n      <td>11432</td>\n      <td>1</td>\n      <td>3</td>\n      <td>3.160421</td>\n    </tr>\n    <tr>\n      <th>1</th>\n      <td>12</td>\n      <td>0.9</td>\n      <td>2028</td>\n      <td>1.1</td>\n      <td>64874</td>\n      <td>12</td>\n      <td>7</td>\n      <td>4.789190</td>\n    </tr>\n    <tr>\n      <th>2</th>\n      <td>23</td>\n      <td>1.4</td>\n      <td>1393</td>\n      <td>1.4</td>\n      <td>13843</td>\n      <td>10</td>\n      <td>3</td>\n      <td>3.676977</td>\n    </tr>\n    <tr>\n      <th>3</th>\n      <td>17</td>\n      <td>0.9</td>\n      <td>425</td>\n      <td>0.8</td>\n      <td>40959</td>\n      <td>9</td>\n      <td>0</td>\n      <td>3.641177</td>\n    </tr>\n    <tr>\n      <th>4</th>\n      <td>37</td>\n      <td>0.5</td>\n      <td>2111</td>\n      <td>1.0</td>\n      <td>26203</td>\n      <td>15</td>\n      <td>4</td>\n      <td>4.164019</td>\n    </tr>\n  </tbody>\n</table>\n</div>",
            "text/plain": "   teamsize  teamMFR  enrollment  schoolMFR  districtpopn  practices  \\\n0         9      1.1         469        0.5         11432          1   \n1        12      0.9        2028        1.1         64874         12   \n2        23      1.4        1393        1.4         13843         10   \n3        17      0.9         425        0.8         40959          9   \n4        37      0.5        2111        1.0         26203         15   \n\n   competitions     score  \n0             3  3.160421  \n1             7  4.789190  \n2             3  3.676977  \n3             0  3.641177  \n4             4  4.164019  "
          },
          "metadata": {}
        }
      ]
    },
    {
      "metadata": {
        "trusted": true
      },
      "cell_type": "code",
      "source": "df.corr()",
      "execution_count": 2,
      "outputs": [
        {
          "output_type": "execute_result",
          "execution_count": 2,
          "data": {
            "text/html": "<div>\n<style>\n    .dataframe thead tr:only-child th {\n        text-align: right;\n    }\n\n    .dataframe thead th {\n        text-align: left;\n    }\n\n    .dataframe tbody tr th {\n        vertical-align: top;\n    }\n</style>\n<table border=\"1\" class=\"dataframe\">\n  <thead>\n    <tr style=\"text-align: right;\">\n      <th></th>\n      <th>teamsize</th>\n      <th>teamMFR</th>\n      <th>enrollment</th>\n      <th>schoolMFR</th>\n      <th>districtpopn</th>\n      <th>practices</th>\n      <th>competitions</th>\n      <th>score</th>\n    </tr>\n  </thead>\n  <tbody>\n    <tr>\n      <th>teamsize</th>\n      <td>1.000000</td>\n      <td>0.039261</td>\n      <td>-0.002032</td>\n      <td>-0.027581</td>\n      <td>-0.027813</td>\n      <td>0.017570</td>\n      <td>-0.017728</td>\n      <td>0.037383</td>\n    </tr>\n    <tr>\n      <th>teamMFR</th>\n      <td>0.039261</td>\n      <td>1.000000</td>\n      <td>0.014302</td>\n      <td>-0.022603</td>\n      <td>-0.043413</td>\n      <td>-0.039693</td>\n      <td>0.060830</td>\n      <td>-0.019025</td>\n    </tr>\n    <tr>\n      <th>enrollment</th>\n      <td>-0.002032</td>\n      <td>0.014302</td>\n      <td>1.000000</td>\n      <td>-0.007546</td>\n      <td>0.063731</td>\n      <td>-0.043782</td>\n      <td>-0.076423</td>\n      <td>0.031495</td>\n    </tr>\n    <tr>\n      <th>schoolMFR</th>\n      <td>-0.027581</td>\n      <td>-0.022603</td>\n      <td>-0.007546</td>\n      <td>1.000000</td>\n      <td>0.030516</td>\n      <td>0.002079</td>\n      <td>-0.048233</td>\n      <td>0.004502</td>\n    </tr>\n    <tr>\n      <th>districtpopn</th>\n      <td>-0.027813</td>\n      <td>-0.043413</td>\n      <td>0.063731</td>\n      <td>0.030516</td>\n      <td>1.000000</td>\n      <td>0.018413</td>\n      <td>-0.083559</td>\n      <td>0.437973</td>\n    </tr>\n    <tr>\n      <th>practices</th>\n      <td>0.017570</td>\n      <td>-0.039693</td>\n      <td>-0.043782</td>\n      <td>0.002079</td>\n      <td>0.018413</td>\n      <td>1.000000</td>\n      <td>0.028975</td>\n      <td>0.634882</td>\n    </tr>\n    <tr>\n      <th>competitions</th>\n      <td>-0.017728</td>\n      <td>0.060830</td>\n      <td>-0.076423</td>\n      <td>-0.048233</td>\n      <td>-0.083559</td>\n      <td>0.028975</td>\n      <td>1.000000</td>\n      <td>0.474863</td>\n    </tr>\n    <tr>\n      <th>score</th>\n      <td>0.037383</td>\n      <td>-0.019025</td>\n      <td>0.031495</td>\n      <td>0.004502</td>\n      <td>0.437973</td>\n      <td>0.634882</td>\n      <td>0.474863</td>\n      <td>1.000000</td>\n    </tr>\n  </tbody>\n</table>\n</div>",
            "text/plain": "              teamsize   teamMFR  enrollment  schoolMFR  districtpopn  \\\nteamsize      1.000000  0.039261   -0.002032  -0.027581     -0.027813   \nteamMFR       0.039261  1.000000    0.014302  -0.022603     -0.043413   \nenrollment   -0.002032  0.014302    1.000000  -0.007546      0.063731   \nschoolMFR    -0.027581 -0.022603   -0.007546   1.000000      0.030516   \ndistrictpopn -0.027813 -0.043413    0.063731   0.030516      1.000000   \npractices     0.017570 -0.039693   -0.043782   0.002079      0.018413   \ncompetitions -0.017728  0.060830   -0.076423  -0.048233     -0.083559   \nscore         0.037383 -0.019025    0.031495   0.004502      0.437973   \n\n              practices  competitions     score  \nteamsize       0.017570     -0.017728  0.037383  \nteamMFR       -0.039693      0.060830 -0.019025  \nenrollment    -0.043782     -0.076423  0.031495  \nschoolMFR      0.002079     -0.048233  0.004502  \ndistrictpopn   0.018413     -0.083559  0.437973  \npractices      1.000000      0.028975  0.634882  \ncompetitions   0.028975      1.000000  0.474863  \nscore          0.634882      0.474863  1.000000  "
          },
          "metadata": {}
        }
      ]
    },
    {
      "metadata": {
        "trusted": true
      },
      "cell_type": "code",
      "source": "#Team size, TeamMFR, enrollment and schoolMFR have very weak correlations with the regional scores and therefore can be ignored as we build our model.\n#For the model to predict regional score, we shall use school district popn, practices per month and regional competitions,which have strong positive correlations.",
      "execution_count": null,
      "outputs": []
    },
    {
      "metadata": {
        "trusted": true
      },
      "cell_type": "code",
      "source": "import statsmodels.formula.api as sm\nresult = sm.ols(formula = 'score ~ districtpopn + practices + competitions -1', data=df).fit()\nresult.summary()",
      "execution_count": 5,
      "outputs": [
        {
          "output_type": "execute_result",
          "execution_count": 5,
          "data": {
            "text/html": "<table class=\"simpletable\">\n<caption>OLS Regression Results</caption>\n<tr>\n  <th>Dep. Variable:</th>          <td>score</td>      <th>  R-squared:         </th> <td>   0.914</td> \n</tr>\n<tr>\n  <th>Model:</th>                   <td>OLS</td>       <th>  Adj. R-squared:    </th> <td>   0.913</td> \n</tr>\n<tr>\n  <th>Method:</th>             <td>Least Squares</td>  <th>  F-statistic:       </th> <td>   1057.</td> \n</tr>\n<tr>\n  <th>Date:</th>             <td>Tue, 02 Oct 2018</td> <th>  Prob (F-statistic):</th> <td>4.17e-158</td>\n</tr>\n<tr>\n  <th>Time:</th>                 <td>01:06:59</td>     <th>  Log-Likelihood:    </th> <td> -466.23</td> \n</tr>\n<tr>\n  <th>No. Observations:</th>      <td>   300</td>      <th>  AIC:               </th> <td>   938.5</td> \n</tr>\n<tr>\n  <th>Df Residuals:</th>          <td>   297</td>      <th>  BIC:               </th> <td>   949.6</td> \n</tr>\n<tr>\n  <th>Df Model:</th>              <td>     3</td>      <th>                     </th>     <td> </td>    \n</tr>\n<tr>\n  <th>Covariance Type:</th>      <td>nonrobust</td>    <th>                     </th>     <td> </td>    \n</tr>\n</table>\n<table class=\"simpletable\">\n<tr>\n        <td></td>          <th>coef</th>     <th>std err</th>      <th>t</th>      <th>P>|t|</th>  <th>[0.025</th>    <th>0.975]</th>  \n</tr>\n<tr>\n  <th>districtpopn</th> <td> 1.905e-05</td> <td> 1.43e-06</td> <td>   13.330</td> <td> 0.000</td> <td> 1.62e-05</td> <td> 2.19e-05</td>\n</tr>\n<tr>\n  <th>practices</th>    <td>    0.1462</td> <td>    0.009</td> <td>   15.916</td> <td> 0.000</td> <td>    0.128</td> <td>    0.164</td>\n</tr>\n<tr>\n  <th>competitions</th> <td>    0.2619</td> <td>    0.019</td> <td>   14.037</td> <td> 0.000</td> <td>    0.225</td> <td>    0.299</td>\n</tr>\n</table>\n<table class=\"simpletable\">\n<tr>\n  <th>Omnibus:</th>       <td> 6.387</td> <th>  Durbin-Watson:     </th> <td>   1.686</td>\n</tr>\n<tr>\n  <th>Prob(Omnibus):</th> <td> 0.041</td> <th>  Jarque-Bera (JB):  </th> <td>   6.170</td>\n</tr>\n<tr>\n  <th>Skew:</th>          <td>-0.311</td> <th>  Prob(JB):          </th> <td>  0.0457</td>\n</tr>\n<tr>\n  <th>Kurtosis:</th>      <td> 3.328</td> <th>  Cond. No.          </th> <td>1.91e+04</td>\n</tr>\n</table>",
            "text/plain": "<class 'statsmodels.iolib.summary.Summary'>\n\"\"\"\n                            OLS Regression Results                            \n==============================================================================\nDep. Variable:                  score   R-squared:                       0.914\nModel:                            OLS   Adj. R-squared:                  0.913\nMethod:                 Least Squares   F-statistic:                     1057.\nDate:                Tue, 02 Oct 2018   Prob (F-statistic):          4.17e-158\nTime:                        01:06:59   Log-Likelihood:                -466.23\nNo. Observations:                 300   AIC:                             938.5\nDf Residuals:                     297   BIC:                             949.6\nDf Model:                           3                                         \nCovariance Type:            nonrobust                                         \n================================================================================\n                   coef    std err          t      P>|t|      [0.025      0.975]\n--------------------------------------------------------------------------------\ndistrictpopn  1.905e-05   1.43e-06     13.330      0.000    1.62e-05    2.19e-05\npractices        0.1462      0.009     15.916      0.000       0.128       0.164\ncompetitions     0.2619      0.019     14.037      0.000       0.225       0.299\n==============================================================================\nOmnibus:                        6.387   Durbin-Watson:                   1.686\nProb(Omnibus):                  0.041   Jarque-Bera (JB):                6.170\nSkew:                          -0.311   Prob(JB):                       0.0457\nKurtosis:                       3.328   Cond. No.                     1.91e+04\n==============================================================================\n\nWarnings:\n[1] Standard Errors assume that the covariance matrix of the errors is correctly specified.\n[2] The condition number is large, 1.91e+04. This might indicate that there are\nstrong multicollinearity or other numerical problems.\n\"\"\""
          },
          "metadata": {}
        }
      ]
    },
    {
      "metadata": {
        "trusted": true
      },
      "cell_type": "code",
      "source": "# Adj.R-squared is high, model therefore largely explains the relationship.\n# P-values are low and significant, therefore relationship is more than just by chance.\n# In conclusion, this model clearly shows the factors that highly predict team regional scores namely: the population of school district, the number of practices per month and the number of competitions before regionals.",
      "execution_count": null,
      "outputs": []
    }
  ],
  "metadata": {
    "kernelspec": {
      "name": "python36",
      "display_name": "Python 3.6",
      "language": "python"
    },
    "language_info": {
      "mimetype": "text/x-python",
      "nbconvert_exporter": "python",
      "name": "python",
      "pygments_lexer": "ipython3",
      "version": "3.6.6",
      "file_extension": ".py",
      "codemirror_mode": {
        "version": 3,
        "name": "ipython"
      }
    }
  },
  "nbformat": 4,
  "nbformat_minor": 2
}